{
 "cells": [
  {
   "cell_type": "code",
   "execution_count": null,
   "id": "initial_id",
   "metadata": {
    "collapsed": true
   },
   "outputs": [],
   "source": [
    "from src.scripts.hydrate_db import create_db_connection\n",
    "import pandas as pd\n",
    "import os\n",
    "import matplotlib.pyplot as plt\n",
    "import numpy as np\n",
    "\n",
    "SQL_PATH = os.path.join(os.path.abspath(\"\"), \"sql\")\n",
    "\n",
    "con = create_db_connection()"
   ]
  },
  {
   "cell_type": "code",
   "outputs": [],
   "source": [
    "SQL_PATH"
   ],
   "metadata": {
    "collapsed": false
   },
   "id": "2a82fb8be5503b3a",
   "execution_count": null
  },
  {
   "cell_type": "markdown",
   "source": [
    "# MATCHUP LUCK\n",
    "## Lucky Wins and Unlucky Losses\n",
    "\n",
    "Extremely lucky win = You won while being the second-lowest scorer in the league. The only person with a lower score was your opponent.\n",
    "Lucky win = You won while being the third-lowest scorer in the league.\n",
    "\n",
    "Extremely unlucky loss = You lost while being the second-highest scorer in the league. The only person with a higher score was your opponent.\n",
    "Unlucky loss = You lost while being the third-highest scorer in the league.\n",
    "\n",
    "`LuckScore = (NumExtremelyLuckyWins * 2) + NumLuckyWins - (NumExtremelyUnluckyLosses * 2) - NumUnluckyLosses`\n"
   ],
   "metadata": {
    "collapsed": false
   },
   "id": "b70a3de147d47eaa"
  },
  {
   "cell_type": "code",
   "outputs": [],
   "source": [
    "## UNLUCKY DFS ##\n",
    "with open(os.path.join(SQL_PATH, \"analytics\", \"num_extremely_unlucky_losses.sql\"), \"r\") as f:\n",
    "    query = f.read()\n",
    "    \n",
    "extremely_unlucky_losses_df = pd.read_sql(query, con=con)\n",
    "\n",
    "with open(os.path.join(SQL_PATH, \"analytics\", \"num_unlucky_losses.sql\"), \"r\") as f:\n",
    "    query = f.read()\n",
    "    \n",
    "unlucky_losses_df = pd.read_sql(query, con=con)\n"
   ],
   "metadata": {
    "collapsed": false
   },
   "id": "e16d5e486a530020",
   "execution_count": null
  },
  {
   "cell_type": "code",
   "outputs": [],
   "source": [
    "## LUCKY DFS ##\n",
    "with open(os.path.join(SQL_PATH, \"analytics\", \"num_extremely_lucky_wins.sql\"), \"r\") as f:\n",
    "    query = f.read()\n",
    "    \n",
    "extremely_lucky_wins_df = pd.read_sql(query, con=con)\n",
    "\n",
    "with open(os.path.join(SQL_PATH, \"analytics\", \"num_lucky_wins.sql\"), \"r\") as f:\n",
    "    query = f.read()\n",
    "    \n",
    "lucky_wins_df = pd.read_sql(query, con=con)\n"
   ],
   "metadata": {
    "collapsed": false
   },
   "id": "dbcf69cc6cd243a9",
   "execution_count": null
  },
  {
   "cell_type": "code",
   "outputs": [],
   "source": [
    "## MERGE, CALC, SORT ##\n",
    "luck_df = lucky_wins_df.merge(right=extremely_lucky_wins_df, how=\"outer\", on=\"RealName\").merge(\n",
    "    right=unlucky_losses_df, how=\"outer\", on=\"RealName\"\n",
    ").merge(\n",
    "    right=extremely_unlucky_losses_df, how=\"outer\", on=\"RealName\"\n",
    ").fillna(0)\n",
    "luck_df[\"LuckScore\"] = luck_df[\"NumLuckyWins\"] + luck_df[\"NumExtremelyLuckyWins\"] * 2 - luck_df[\"NumUnluckyLosses\"] - (luck_df[\"NumExtremelyUnluckyLosses\"] * 2)\n",
    "luck_df = luck_df.sort_values(by=\"LuckScore\", ascending=False)"
   ],
   "metadata": {
    "collapsed": false
   },
   "id": "4eb5636e6237a935",
   "execution_count": null
  },
  {
   "cell_type": "code",
   "outputs": [],
   "source": [
    "## PLOT ##\n",
    "\n",
    "fig, (ax1, ax2) = plt.subplots(1, 2)\n",
    "player_range = np.arange(len(luck_df))\n",
    "\n",
    "## luck score ##\n",
    "ax1.barh(player_range, luck_df[\"LuckScore\"], align=\"center\")\n",
    "ax1.set_yticks(player_range, labels=luck_df[\"RealName\"])\n",
    "ax1.invert_yaxis()\n",
    "ax1.set_title(\"MATCHUP LUCK SCORE\")\n",
    "# ax1.set_figwidth(19)\n",
    "\n",
    "## raw data ##\n",
    "labels = list(luck_df[\"RealName\"])\n",
    "width = 0.2\n",
    "ax2.set_title(\"RAW LUCK DATA\")\n",
    "ax2.bar(player_range -  (width * 2), luck_df[\"NumExtremelyLuckyWins\"], width, label=\"Extremely Lucky Wins\", color=(0, 1, 0, 0.3))\n",
    "ax2.bar(player_range - width, luck_df[\"NumLuckyWins\"], width,  label=\"Lucky Wins\", color=(0, 1, 0, 1))\n",
    "ax2.bar(player_range, luck_df[\"NumUnluckyLosses\"], width, label=\"Unlucky Losses\", color=(1, 0, 0,  1))\n",
    "ax2.bar(player_range + width, luck_df[\"NumExtremelyUnluckyLosses\"], width, label=\"Extremely Unlucky Losses\", color=(1, 0, 0,  0.5))\n",
    "\n",
    "ax2.set_xticks(player_range, labels=luck_df[\"RealName\"])\n",
    "ax2.set_xticklabels(labels)\n",
    "ax2.legend()\n",
    "fig.set_figwidth(25)\n",
    "fig.set_figheight(10)\n",
    "plt.xticks(rotation=45)\n",
    "plt.show()\n"
   ],
   "metadata": {
    "collapsed": false
   },
   "id": "f1b277400d85f4b0",
   "execution_count": null
  },
  {
   "cell_type": "markdown",
   "source": [
    "Based on the formula I came up with, we can empirically determine that Jack has had the worst matchup luck of all of us over the history of our league, while Zac and Gray have had the best luck. The fact that Zac is the luck stat leader seems extremely fitting."
   ],
   "metadata": {
    "collapsed": false
   },
   "id": "d203ecb7be7cdb1c"
  },
  {
   "cell_type": "markdown",
   "source": [
    "# CUMULATIVE PODIUM STATS\n",
    "## Calculating an overall league score based on your cumulative podium finishes\n",
    "\n",
    "`OverallScore = (3 * NumFirstPlaceFinishes) + (2 * NumSecondPlaceFinishes) + NumThirdPlaceFinishes`"
   ],
   "metadata": {
    "collapsed": false
   },
   "id": "4aab2c37a017e3f9"
  },
  {
   "cell_type": "code",
   "outputs": [],
   "source": [
    "## SELECT PODIUM BY YEAR ##\n",
    "with open(os.path.join(SQL_PATH, \"analytics\", \"select_podium_by_year.sql\"), \"r\") as f:\n",
    "    query = f.read()\n",
    "    \n",
    "podium = pd.read_sql(query, con=con)"
   ],
   "metadata": {
    "collapsed": false
   },
   "id": "23fa62ad6ac8a58a",
   "execution_count": null
  },
  {
   "cell_type": "code",
   "outputs": [],
   "source": [
    "# podium[(podium[\"RealName\"] == \"Travis\") & (podium[\"FinalRank\"] == 1)]\n",
    "import emoji\n",
    "all_player_names = pd.read_sql(\"SELECT DISTINCT RealName FROM leaguemembers\", con=con)[\"RealName\"].to_list()\n",
    "\n",
    "cumulative_podium_df = pd.DataFrame(\n",
    "    {\n",
    "        \"RealName\": n,\n",
    "        \"FirstPlaceFinishes\": [f'{emoji.emojize(\":1st_place_medal:\")} {y}' for y in list(podium[(podium[\"RealName\"] == n) & (podium[\"FinalRank\"] == 1)][\"Year\"])],\n",
    "        \"SecondPlaceFinishes\": [f'{emoji.emojize(\":2nd_place_medal:\")} {y}' for y in list(podium[(podium[\"RealName\"] == n) & (podium[\"FinalRank\"] == 2)][\"Year\"])],\n",
    "        \"ThirdPlaceFinishes\": [f'{emoji.emojize(\":3rd_place_medal:\")} {y}' for y in list(podium[(podium[\"RealName\"] == n) & (podium[\"FinalRank\"] == 3)][\"Year\"])]\n",
    "    }\n",
    "    for n in all_player_names\n",
    ")\n",
    "cumulative_podium_df[\"OverallScore\"] = (\n",
    "        3 * cumulative_podium_df[\"FirstPlaceFinishes\"].str.len()\n",
    "        + 2 * cumulative_podium_df[\"SecondPlaceFinishes\"].str.len()\n",
    "        + cumulative_podium_df[\"ThirdPlaceFinishes\"].str.len()\n",
    ")   \n",
    "cumulative_podium_df[\"Rank\"] = cumulative_podium_df[\"OverallScore\"].rank(method=\"min\", ascending=False).astype(int)\n",
    "cumulative_podium_df = cumulative_podium_df.sort_values(by=\"OverallScore\", ascending=False).reset_index(drop=True)[[\"Rank\", \"RealName\", \"OverallScore\", \"FirstPlaceFinishes\", \"SecondPlaceFinishes\", \"ThirdPlaceFinishes\"]]\n",
    "cumulative_podium_df"
   ],
   "metadata": {
    "collapsed": false
   },
   "id": "ee2be6a18a6076cf",
   "execution_count": null
  },
  {
   "cell_type": "markdown",
   "source": [
    "Here we can see that poor Harry \"early 90s Bills\" Sharp has smelled victory 4(!) times but never tasted its sweet nectar. Also interesting to note that while Jack has had the worst historical matchup luck, he is still tied for first in overall league score. "
   ],
   "metadata": {
    "collapsed": false
   },
   "id": "a801fd1000c83dce"
  }
 ],
 "metadata": {
  "kernelspec": {
   "display_name": "Python 3",
   "language": "python",
   "name": "python3"
  },
  "language_info": {
   "codemirror_mode": {
    "name": "ipython",
    "version": 2
   },
   "file_extension": ".py",
   "mimetype": "text/x-python",
   "name": "python",
   "nbconvert_exporter": "python",
   "pygments_lexer": "ipython2",
   "version": "2.7.6"
  }
 },
 "nbformat": 4,
 "nbformat_minor": 5
}
